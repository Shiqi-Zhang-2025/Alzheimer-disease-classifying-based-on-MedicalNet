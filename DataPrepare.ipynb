{
 "cells": [
  {
   "cell_type": "code",
   "execution_count": 1,
   "id": "3951800f-858a-4b5a-9467-4c2f732803b8",
   "metadata": {},
   "outputs": [
    {
     "ename": "KeyboardInterrupt",
     "evalue": "",
     "output_type": "error",
     "traceback": [
      "\u001b[0;31m---------------------------------------------------------------------------\u001b[0m",
      "\u001b[0;31mKeyboardInterrupt\u001b[0m                         Traceback (most recent call last)",
      "Cell \u001b[0;32mIn[1], line 55\u001b[0m\n\u001b[1;32m     51\u001b[0m output_directory \u001b[38;5;241m=\u001b[39m \u001b[38;5;124m'\u001b[39m\u001b[38;5;124m/hy-tmp/Abeta_4D_resize2/\u001b[39m\u001b[38;5;124m'\u001b[39m\n\u001b[1;32m     54\u001b[0m \u001b[38;5;66;03m# 调用函数\u001b[39;00m\n\u001b[0;32m---> 55\u001b[0m \u001b[43mbatch_resize_nii\u001b[49m\u001b[43m(\u001b[49m\u001b[43minput_directory\u001b[49m\u001b[43m,\u001b[49m\u001b[43m \u001b[49m\u001b[43moutput_directory\u001b[49m\u001b[43m)\u001b[49m\n",
      "Cell \u001b[0;32mIn[1], line 47\u001b[0m, in \u001b[0;36mbatch_resize_nii\u001b[0;34m(input_dir, output_dir, new_shape)\u001b[0m\n\u001b[1;32m     44\u001b[0m os\u001b[38;5;241m.\u001b[39mmakedirs(output_path, exist_ok\u001b[38;5;241m=\u001b[39m\u001b[38;5;28;01mTrue\u001b[39;00m)\n\u001b[1;32m     46\u001b[0m \u001b[38;5;66;03m# 调整图像大小并保存\u001b[39;00m\n\u001b[0;32m---> 47\u001b[0m \u001b[43mresample_image\u001b[49m\u001b[43m(\u001b[49m\u001b[43minput_path\u001b[49m\u001b[43m,\u001b[49m\u001b[43m \u001b[49m\u001b[43mos\u001b[49m\u001b[38;5;241;43m.\u001b[39;49m\u001b[43mpath\u001b[49m\u001b[38;5;241;43m.\u001b[39;49m\u001b[43mjoin\u001b[49m\u001b[43m(\u001b[49m\u001b[43moutput_path\u001b[49m\u001b[43m,\u001b[49m\u001b[43m \u001b[49m\u001b[43mfile\u001b[49m\u001b[43m)\u001b[49m\u001b[43m,\u001b[49m\u001b[43m \u001b[49m\u001b[43mnew_shape\u001b[49m\u001b[43m)\u001b[49m\n",
      "Cell \u001b[0;32mIn[1], line 22\u001b[0m, in \u001b[0;36mresample_image\u001b[0;34m(input_image_path, output_image_path, new_shape, interpolation_order)\u001b[0m\n\u001b[1;32m     19\u001b[0m zoom_factors \u001b[38;5;241m=\u001b[39m [new_dim \u001b[38;5;241m/\u001b[39m \u001b[38;5;28mfloat\u001b[39m(orig_dim) \u001b[38;5;28;01mfor\u001b[39;00m orig_dim, new_dim \u001b[38;5;129;01min\u001b[39;00m \u001b[38;5;28mzip\u001b[39m(img_data\u001b[38;5;241m.\u001b[39mshape, new_shape)]\n\u001b[1;32m     21\u001b[0m \u001b[38;5;66;03m# 调整图像大小\u001b[39;00m\n\u001b[0;32m---> 22\u001b[0m resampled_img_data \u001b[38;5;241m=\u001b[39m \u001b[43mzoom\u001b[49m\u001b[43m(\u001b[49m\u001b[43mimg_data\u001b[49m\u001b[43m,\u001b[49m\u001b[43m \u001b[49m\u001b[43mzoom_factors\u001b[49m\u001b[43m,\u001b[49m\u001b[43m \u001b[49m\u001b[43morder\u001b[49m\u001b[38;5;241;43m=\u001b[39;49m\u001b[43minterpolation_order\u001b[49m\u001b[43m)\u001b[49m\n\u001b[1;32m     24\u001b[0m \u001b[38;5;66;03m# 创建新的 NIfTI 图像\u001b[39;00m\n\u001b[1;32m     25\u001b[0m resampled_img \u001b[38;5;241m=\u001b[39m nib\u001b[38;5;241m.\u001b[39mNifti1Image(resampled_img_data, img\u001b[38;5;241m.\u001b[39maffine, img\u001b[38;5;241m.\u001b[39mheader)\n",
      "File \u001b[0;32m/usr/local/lib/python3.11/dist-packages/scipy/ndimage/_interpolation.py:860\u001b[0m, in \u001b[0;36mzoom\u001b[0;34m(input, zoom, output, order, mode, cval, prefilter, grid_mode)\u001b[0m\n\u001b[1;32m    856\u001b[0m zoom \u001b[38;5;241m=\u001b[39m np\u001b[38;5;241m.\u001b[39mdivide(zoom_nominator, zoom_div,\n\u001b[1;32m    857\u001b[0m                  out\u001b[38;5;241m=\u001b[39mnp\u001b[38;5;241m.\u001b[39mones_like(\u001b[38;5;28minput\u001b[39m\u001b[38;5;241m.\u001b[39mshape, dtype\u001b[38;5;241m=\u001b[39mnp\u001b[38;5;241m.\u001b[39mfloat64),\n\u001b[1;32m    858\u001b[0m                  where\u001b[38;5;241m=\u001b[39mzoom_div \u001b[38;5;241m!=\u001b[39m \u001b[38;5;241m0\u001b[39m)\n\u001b[1;32m    859\u001b[0m zoom \u001b[38;5;241m=\u001b[39m np\u001b[38;5;241m.\u001b[39mascontiguousarray(zoom)\n\u001b[0;32m--> 860\u001b[0m \u001b[43m_nd_image\u001b[49m\u001b[38;5;241;43m.\u001b[39;49m\u001b[43mzoom_shift\u001b[49m\u001b[43m(\u001b[49m\u001b[43mfiltered\u001b[49m\u001b[43m,\u001b[49m\u001b[43m \u001b[49m\u001b[43mzoom\u001b[49m\u001b[43m,\u001b[49m\u001b[43m \u001b[49m\u001b[38;5;28;43;01mNone\u001b[39;49;00m\u001b[43m,\u001b[49m\u001b[43m \u001b[49m\u001b[43moutput\u001b[49m\u001b[43m,\u001b[49m\u001b[43m \u001b[49m\u001b[43morder\u001b[49m\u001b[43m,\u001b[49m\u001b[43m \u001b[49m\u001b[43mmode\u001b[49m\u001b[43m,\u001b[49m\u001b[43m \u001b[49m\u001b[43mcval\u001b[49m\u001b[43m,\u001b[49m\u001b[43m \u001b[49m\u001b[43mnpad\u001b[49m\u001b[43m,\u001b[49m\n\u001b[1;32m    861\u001b[0m \u001b[43m                     \u001b[49m\u001b[43mgrid_mode\u001b[49m\u001b[43m)\u001b[49m\n\u001b[1;32m    862\u001b[0m \u001b[38;5;28;01mreturn\u001b[39;00m output\n",
      "\u001b[0;31mKeyboardInterrupt\u001b[0m: "
     ]
    }
   ],
   "source": [
    "import os\n",
    "import nibabel as nib\n",
    "from scipy.ndimage import zoom\n",
    "\n",
    "def resample_image(input_image_path, output_image_path, new_shape, interpolation_order=3):\n",
    "    # 加载原始图像\n",
    "    img = nib.load(input_image_path)\n",
    "    img_data = img.get_fdata()\n",
    "    \n",
    "    # 确保 new_shape 与 img_data 的维度匹配\n",
    "    if len(new_shape) < img_data.ndim:\n",
    "        # 如果 new_shape 维度小于原始图像维度，扩展 new_shape\n",
    "        new_shape = (*new_shape,) + (1,) * (img_data.ndim - len(new_shape))\n",
    "    elif len(new_shape) > img_data.ndim:\n",
    "        # 如果 new_shape 维度大于原始图像维度，截断 new_shape\n",
    "        new_shape = new_shape[:img_data.ndim]\n",
    "\n",
    "    # 计算新的体素尺寸\n",
    "    zoom_factors = [new_dim / float(orig_dim) for orig_dim, new_dim in zip(img_data.shape, new_shape)]\n",
    "    \n",
    "    # 调整图像大小\n",
    "    resampled_img_data = zoom(img_data, zoom_factors, order=interpolation_order)\n",
    "    \n",
    "    # 创建新的 NIfTI 图像\n",
    "    resampled_img = nib.Nifti1Image(resampled_img_data, img.affine, img.header)\n",
    "    \n",
    "    # 保存调整大小后的图像\n",
    "    nib.save(resampled_img, output_image_path)\n",
    "\n",
    "def batch_resize_nii(input_dir, output_dir, new_shape=(64, 256, 256)):\n",
    "    # 确保输出目录存在\n",
    "    if not os.path.exists(output_dir):\n",
    "        os.makedirs(output_dir)\n",
    "    \n",
    "    # 遍历输入目录\n",
    "    for root, dirs, files in os.walk(input_dir):\n",
    "        for file in files:\n",
    "            if file.endswith('.nii') or file.endswith('.nii.gz'):\n",
    "                input_path = os.path.join(root, file)\n",
    "                relative_path = os.path.relpath(root, input_dir)\n",
    "                output_path = os.path.join(output_dir, relative_path)\n",
    "                \n",
    "                # 确保输出子目录存在\n",
    "                os.makedirs(output_path, exist_ok=True)\n",
    "                \n",
    "                # 调整图像大小并保存\n",
    "                resample_image(input_path, os.path.join(output_path, file), new_shape)\n",
    "\n",
    "# 输入和输出目录\n",
    "input_directory = '/hy-tmp/test-9/'\n",
    "output_directory = '/hy-tmp/Abeta_4D_resize2/'\n",
    "\n",
    "\n",
    "# 调用函数\n",
    "batch_resize_nii(input_directory, output_directory)"
   ]
  },
  {
   "cell_type": "code",
   "execution_count": null,
   "id": "fc68fc55-8ba5-44be-9c66-75d1b968ec45",
   "metadata": {},
   "outputs": [],
   "source": []
  }
 ],
 "metadata": {
  "kernelspec": {
   "display_name": "Python 3 (ipykernel)",
   "language": "python",
   "name": "python3"
  },
  "language_info": {
   "codemirror_mode": {
    "name": "ipython",
    "version": 3
   },
   "file_extension": ".py",
   "mimetype": "text/x-python",
   "name": "python",
   "nbconvert_exporter": "python",
   "pygments_lexer": "ipython3",
   "version": "3.11.8"
  }
 },
 "nbformat": 4,
 "nbformat_minor": 5
}
